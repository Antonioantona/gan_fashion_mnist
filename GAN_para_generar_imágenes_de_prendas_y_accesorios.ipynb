{
  "cells": [
    {
      "cell_type": "markdown",
      "metadata": {
        "id": "5M8BBPfdCFgc"
      },
      "source": [
        " # GAN para generación de  prendas y accesorios\n",
        "\n",
        " Usamos el dataset Fashion MNIST para entrenar una red neuronal generativa antagónica para  prendas y accesorios.\n"
      ]
    },
    {
      "cell_type": "code",
      "execution_count": null,
      "metadata": {
        "id": "eDgEBC2hB-p_"
      },
      "outputs": [],
      "source": [
        "#Importa las librerias\n",
        "import tensorflow as tf\n",
        "from tensorflow import keras\n",
        "from tensorflow.keras import layers\n",
        "from keras.models import Sequential\n",
        "from keras.layers import Conv2D,Dropout,Dense,Flatten,Conv2DTranspose,BatchNormalization,LeakyReLU,Reshape\n",
        "import numpy as np\n",
        "import matplotlib.pyplot as plt\n",
        "import os\n",
        "import random\n",
        "import glob\n",
        "from tensorflow.keras.preprocessing.image import load_img, img_to_array\n",
        "from tensorflow.keras.optimizers import Adam"
      ]
    },
    {
      "cell_type": "code",
      "execution_count": null,
      "metadata": {
        "colab": {
          "base_uri": "https://localhost:8080/"
        },
        "id": "Kjt8arWgWc2U",
        "outputId": "62e8e63b-1deb-4b6b-c353-48af799ba02c"
      },
      "outputs": [
        {
          "name": "stdout",
          "output_type": "stream",
          "text": [
            "Downloading data from https://storage.googleapis.com/tensorflow/tf-keras-datasets/train-labels-idx1-ubyte.gz\n",
            "\u001b[1m29515/29515\u001b[0m \u001b[32m━━━━━━━━━━━━━━━━━━━━\u001b[0m\u001b[37m\u001b[0m \u001b[1m0s\u001b[0m 0us/step\n",
            "Downloading data from https://storage.googleapis.com/tensorflow/tf-keras-datasets/train-images-idx3-ubyte.gz\n",
            "\u001b[1m26421880/26421880\u001b[0m \u001b[32m━━━━━━━━━━━━━━━━━━━━\u001b[0m\u001b[37m\u001b[0m \u001b[1m0s\u001b[0m 0us/step\n",
            "Downloading data from https://storage.googleapis.com/tensorflow/tf-keras-datasets/t10k-labels-idx1-ubyte.gz\n",
            "\u001b[1m5148/5148\u001b[0m \u001b[32m━━━━━━━━━━━━━━━━━━━━\u001b[0m\u001b[37m\u001b[0m \u001b[1m0s\u001b[0m 0us/step\n",
            "Downloading data from https://storage.googleapis.com/tensorflow/tf-keras-datasets/t10k-images-idx3-ubyte.gz\n",
            "\u001b[1m4422102/4422102\u001b[0m \u001b[32m━━━━━━━━━━━━━━━━━━━━\u001b[0m\u001b[37m\u001b[0m \u001b[1m0s\u001b[0m 0us/step\n"
          ]
        }
      ],
      "source": [
        "\n",
        "(train_images, train_labels), (test_images, test_labels) = keras.datasets.fashion_mnist.load_data()\n"
      ]
    },
    {
      "cell_type": "code",
      "execution_count": null,
      "metadata": {
        "id": "GgYJGBEBuM7t"
      },
      "outputs": [],
      "source": [
        "train_images, train_labels, test_images, test_labels"
      ]
    },
    {
      "cell_type": "code",
      "execution_count": null,
      "metadata": {
        "id": "Lxwlntv3uFV1"
      },
      "outputs": [],
      "source": [
        "#X_train=X_train.values\n",
        "print(X_train.shape)"
      ]
    },
    {
      "cell_type": "code",
      "execution_count": null,
      "metadata": {
        "id": "5Md6MueExjYn"
      },
      "outputs": [],
      "source": [
        "#X_train=X_train.reshape(-1,28,28,1)\n",
        "#print(X_train.shape)"
      ]
    },
    {
      "cell_type": "code",
      "execution_count": null,
      "metadata": {
        "colab": {
          "base_uri": "https://localhost:8080/",
          "height": 837
        },
        "id": "prxE2gxXiX90",
        "outputId": "551ce3f6-747a-4413-8f78-612029bc6151"
      },
      "outputs": [
        {
          "data": {
            "image/png": "[encoded data removed]",
            "text/plain": [
              "<Figure size 256x192 with 1 Axes>"
            ]
          },
          "metadata": {},
          "output_type": "display_data"
        },
        {
          "data": {
            "image/png": "[encoded data removed]",
            "text/plain": [
              "<Figure size 256x192 with 1 Axes>"
            ]
          },
          "metadata": {},
          "output_type": "display_data"
        },
        {
          "data": {
            "image/png": "[encoded data removed]",
            "text/plain": [
              "<Figure size 256x192 with 1 Axes>"
            ]
          },
          "metadata": {},
          "output_type": "display_data"
        },
        {
          "data": {
            "image/png": "[encoded data removed]",
            "text/plain": [
              "<Figure size 256x192 with 1 Axes>"
            ]
          },
          "metadata": {},
          "output_type": "display_data"
        },
        {
          "data": {
            "image/png": "[encoded data removed]",
            "text/plain": [
              "<Figure size 256x192 with 1 Axes>"
            ]
          },
          "metadata": {},
          "output_type": "display_data"
        }
      ],
      "source": [
        "# Carga y muestar algunas imágenes del dataset\n",
        "sample_indices = random.sample(range(len(train_images)), 5) # Selecciona 5 índices aleatorios\n",
        "\n",
        "for index in sample_indices:\n",
        "  img = train_images[index] # Accede a la imagen utilizando el índice\n",
        "  plt.figure(dpi=40)\n",
        "  plt.imshow(img, cmap='gray') # Muestra la imagen en escala de grises\n",
        "  plt.axis('off')\n",
        "  plt.title(f\"Imagen {index}\")\n",
        "  plt.show()"
      ]
    },
    {
      "cell_type": "code",
      "execution_count": null,
      "metadata": {
        "colab": {
          "base_uri": "https://localhost:8080/"
        },
        "id": "hfoSPWK_LMKa",
        "outputId": "44d9766c-e580-41e2-dc47-d9e64b50a384"
      },
      "outputs": [
        {
          "name": "stdout",
          "output_type": "stream",
          "text": [
            "Dataset procesado: 2000 imágenes cargadas y preparadas.\n"
          ]
        }
      ],
      "source": [
        "# Carga y procesa el dataset CelebA\n",
        "\n",
        "# Parámetros del dataset y del modelo\n",
        "IMG_SIZE = (28, 28)\n",
        "BATCH_SIZE = 64 # Probar más adelante 64, 128, o más\n",
        "#NUMBER_OF_IMAGES = 2000 # Probar más adelante 2000, 10000, 20000... según la disponibilidad de GPU/TPU\n",
        "NUM_CLASSES = 10\n",
        "\n",
        "# Procesa las imaágenes del dataset\n",
        "images = []\n",
        "for image in test_images: # Subir a 2000, 10000, 20000... según la disponibilidad de GPU/TPU\n",
        "  img = img_to_array(image)  / 127.5 - 1.0 # Normaliza entre -1 y 1\n",
        "  images.append(img)\n",
        "\n",
        "  # Convierte las imágenes a un array de numpy y prepeara el datset de TensorFlow\n",
        "  dataset = np.array(images)\n",
        "  dataset = tf.data.Dataset.from_tensor_slices(dataset).shuffle(NUMBER_OF_IMAGES).batch(BATCH_SIZE)\n",
        "\n",
        "print(f\"Dataset procesado: {NUMBER_OF_IMAGES} imágenes cargadas y preparadas.\")"
      ]
    },
    {
      "cell_type": "code",
      "execution_count": null,
      "metadata": {
        "colab": {
          "base_uri": "https://localhost:8080/"
        },
        "id": "e2Vgu-K7PkLz",
        "outputId": "7b9326d3-b79f-454d-99fa-64ef98325981"
      },
      "outputs": [
        {
          "name": "stdout",
          "output_type": "stream",
          "text": [
            "Dimensiones del lote: (64, 28, 28, 1)\n",
            "Rango: de -1.0 a 1.0\n"
          ]
        }
      ],
      "source": [
        "# Verifica la estructura del dataset\n",
        "for batch in dataset.take(1):\n",
        "  print(\"Dimensiones del lote:\", batch.shape)\n",
        "  print(\"Rango: de\", batch.numpy().min(), \"a\", batch.numpy().max())"
      ]
    },
    {
      "cell_type": "code",
      "execution_count": null,
      "metadata": {
        "colab": {
          "base_uri": "https://localhost:8080/",
          "height": 867
        },
        "id": "p367Tj88QXrH",
        "outputId": "f97a6ac9-e9e6-4e36-c235-0a89b9559f49"
      },
      "outputs": [
        {
          "data": {
            "text/html": [
              "<pre style=\"white-space:pre;overflow-x:auto;line-height:normal;font-family:Menlo,'DejaVu Sans Mono',consolas,'Courier New',monospace\"><span style=\"font-weight: bold\">Model: \"sequential_15\"</span>\n",
              "</pre>\n"
            ],
            "text/plain": [
              "\u001b[1mModel: \"sequential_15\"\u001b[0m\n"
            ]
          },
          "metadata": {},
          "output_type": "display_data"
        },
        {
          "data": {
            "text/html": [
              "<pre style=\"white-space:pre;overflow-x:auto;line-height:normal;font-family:Menlo,'DejaVu Sans Mono',consolas,'Courier New',monospace\">┏━━━━━━━━━━━━━━━━━━━━━━━━━━━━━━━━━━━━━━┳━━━━━━━━━━━━━━━━━━━━━━━━━━━━━┳━━━━━━━━━━━━━━━━━┓\n",
              "┃<span style=\"font-weight: bold\"> Layer (type)                         </span>┃<span style=\"font-weight: bold\"> Output Shape                </span>┃<span style=\"font-weight: bold\">         Param # </span>┃\n",
              "┡━━━━━━━━━━━━━━━━━━━━━━━━━━━━━━━━━━━━━━╇━━━━━━━━━━━━━━━━━━━━━━━━━━━━━╇━━━━━━━━━━━━━━━━━┩\n",
              "│ dense_15 (<span style=\"color: #0087ff; text-decoration-color: #0087ff\">Dense</span>)                     │ (<span style=\"color: #00d7ff; text-decoration-color: #00d7ff\">None</span>, <span style=\"color: #00af00; text-decoration-color: #00af00\">21504</span>)               │       <span style=\"color: #00af00; text-decoration-color: #00af00\">4,322,304</span> │\n",
              "├──────────────────────────────────────┼─────────────────────────────┼─────────────────┤\n",
              "│ batch_normalization_74               │ (<span style=\"color: #00d7ff; text-decoration-color: #00d7ff\">None</span>, <span style=\"color: #00af00; text-decoration-color: #00af00\">21504</span>)               │          <span style=\"color: #00af00; text-decoration-color: #00af00\">86,016</span> │\n",
              "│ (<span style=\"color: #0087ff; text-decoration-color: #0087ff\">BatchNormalization</span>)                 │                             │                 │\n",
              "├──────────────────────────────────────┼─────────────────────────────┼─────────────────┤\n",
              "│ leaky_re_lu_74 (<span style=\"color: #0087ff; text-decoration-color: #0087ff\">LeakyReLU</span>)           │ (<span style=\"color: #00d7ff; text-decoration-color: #00d7ff\">None</span>, <span style=\"color: #00af00; text-decoration-color: #00af00\">21504</span>)               │               <span style=\"color: #00af00; text-decoration-color: #00af00\">0</span> │\n",
              "├──────────────────────────────────────┼─────────────────────────────┼─────────────────┤\n",
              "│ reshape_15 (<span style=\"color: #0087ff; text-decoration-color: #0087ff\">Reshape</span>)                 │ (<span style=\"color: #00d7ff; text-decoration-color: #00d7ff\">None</span>, <span style=\"color: #00af00; text-decoration-color: #00af00\">6</span>, <span style=\"color: #00af00; text-decoration-color: #00af00\">7</span>, <span style=\"color: #00af00; text-decoration-color: #00af00\">512</span>)           │               <span style=\"color: #00af00; text-decoration-color: #00af00\">0</span> │\n",
              "├──────────────────────────────────────┼─────────────────────────────┼─────────────────┤\n",
              "│ conv2d_transpose_59                  │ (<span style=\"color: #00d7ff; text-decoration-color: #00d7ff\">None</span>, <span style=\"color: #00af00; text-decoration-color: #00af00\">12</span>, <span style=\"color: #00af00; text-decoration-color: #00af00\">14</span>, <span style=\"color: #00af00; text-decoration-color: #00af00\">256</span>)         │       <span style=\"color: #00af00; text-decoration-color: #00af00\">3,276,800</span> │\n",
              "│ (<span style=\"color: #0087ff; text-decoration-color: #0087ff\">Conv2DTranspose</span>)                    │                             │                 │\n",
              "├──────────────────────────────────────┼─────────────────────────────┼─────────────────┤\n",
              "│ batch_normalization_75               │ (<span style=\"color: #00d7ff; text-decoration-color: #00d7ff\">None</span>, <span style=\"color: #00af00; text-decoration-color: #00af00\">12</span>, <span style=\"color: #00af00; text-decoration-color: #00af00\">14</span>, <span style=\"color: #00af00; text-decoration-color: #00af00\">256</span>)         │           <span style=\"color: #00af00; text-decoration-color: #00af00\">1,024</span> │\n",
              "│ (<span style=\"color: #0087ff; text-decoration-color: #0087ff\">BatchNormalization</span>)                 │                             │                 │\n",
              "├──────────────────────────────────────┼─────────────────────────────┼─────────────────┤\n",
              "│ leaky_re_lu_75 (<span style=\"color: #0087ff; text-decoration-color: #0087ff\">LeakyReLU</span>)           │ (<span style=\"color: #00d7ff; text-decoration-color: #00d7ff\">None</span>, <span style=\"color: #00af00; text-decoration-color: #00af00\">12</span>, <span style=\"color: #00af00; text-decoration-color: #00af00\">14</span>, <span style=\"color: #00af00; text-decoration-color: #00af00\">256</span>)         │               <span style=\"color: #00af00; text-decoration-color: #00af00\">0</span> │\n",
              "├──────────────────────────────────────┼─────────────────────────────┼─────────────────┤\n",
              "│ conv2d_transpose_60                  │ (<span style=\"color: #00d7ff; text-decoration-color: #00d7ff\">None</span>, <span style=\"color: #00af00; text-decoration-color: #00af00\">24</span>, <span style=\"color: #00af00; text-decoration-color: #00af00\">28</span>, <span style=\"color: #00af00; text-decoration-color: #00af00\">128</span>)         │         <span style=\"color: #00af00; text-decoration-color: #00af00\">819,200</span> │\n",
              "│ (<span style=\"color: #0087ff; text-decoration-color: #0087ff\">Conv2DTranspose</span>)                    │                             │                 │\n",
              "├──────────────────────────────────────┼─────────────────────────────┼─────────────────┤\n",
              "│ batch_normalization_76               │ (<span style=\"color: #00d7ff; text-decoration-color: #00d7ff\">None</span>, <span style=\"color: #00af00; text-decoration-color: #00af00\">24</span>, <span style=\"color: #00af00; text-decoration-color: #00af00\">28</span>, <span style=\"color: #00af00; text-decoration-color: #00af00\">128</span>)         │             <span style=\"color: #00af00; text-decoration-color: #00af00\">512</span> │\n",
              "│ (<span style=\"color: #0087ff; text-decoration-color: #0087ff\">BatchNormalization</span>)                 │                             │                 │\n",
              "├──────────────────────────────────────┼─────────────────────────────┼─────────────────┤\n",
              "│ leaky_re_lu_76 (<span style=\"color: #0087ff; text-decoration-color: #0087ff\">LeakyReLU</span>)           │ (<span style=\"color: #00d7ff; text-decoration-color: #00d7ff\">None</span>, <span style=\"color: #00af00; text-decoration-color: #00af00\">24</span>, <span style=\"color: #00af00; text-decoration-color: #00af00\">28</span>, <span style=\"color: #00af00; text-decoration-color: #00af00\">128</span>)         │               <span style=\"color: #00af00; text-decoration-color: #00af00\">0</span> │\n",
              "├──────────────────────────────────────┼─────────────────────────────┼─────────────────┤\n",
              "│ conv2d_transpose_61                  │ (<span style=\"color: #00d7ff; text-decoration-color: #00d7ff\">None</span>, <span style=\"color: #00af00; text-decoration-color: #00af00\">48</span>, <span style=\"color: #00af00; text-decoration-color: #00af00\">56</span>, <span style=\"color: #00af00; text-decoration-color: #00af00\">64</span>)          │         <span style=\"color: #00af00; text-decoration-color: #00af00\">204,800</span> │\n",
              "│ (<span style=\"color: #0087ff; text-decoration-color: #0087ff\">Conv2DTranspose</span>)                    │                             │                 │\n",
              "├──────────────────────────────────────┼─────────────────────────────┼─────────────────┤\n",
              "│ batch_normalization_77               │ (<span style=\"color: #00d7ff; text-decoration-color: #00d7ff\">None</span>, <span style=\"color: #00af00; text-decoration-color: #00af00\">48</span>, <span style=\"color: #00af00; text-decoration-color: #00af00\">56</span>, <span style=\"color: #00af00; text-decoration-color: #00af00\">64</span>)          │             <span style=\"color: #00af00; text-decoration-color: #00af00\">256</span> │\n",
              "│ (<span style=\"color: #0087ff; text-decoration-color: #0087ff\">BatchNormalization</span>)                 │                             │                 │\n",
              "├──────────────────────────────────────┼─────────────────────────────┼─────────────────┤\n",
              "│ leaky_re_lu_77 (<span style=\"color: #0087ff; text-decoration-color: #0087ff\">LeakyReLU</span>)           │ (<span style=\"color: #00d7ff; text-decoration-color: #00d7ff\">None</span>, <span style=\"color: #00af00; text-decoration-color: #00af00\">48</span>, <span style=\"color: #00af00; text-decoration-color: #00af00\">56</span>, <span style=\"color: #00af00; text-decoration-color: #00af00\">64</span>)          │               <span style=\"color: #00af00; text-decoration-color: #00af00\">0</span> │\n",
              "├──────────────────────────────────────┼─────────────────────────────┼─────────────────┤\n",
              "│ conv2d_transpose_62                  │ (<span style=\"color: #00d7ff; text-decoration-color: #00d7ff\">None</span>, <span style=\"color: #00af00; text-decoration-color: #00af00\">96</span>, <span style=\"color: #00af00; text-decoration-color: #00af00\">112</span>, <span style=\"color: #00af00; text-decoration-color: #00af00\">32</span>)         │          <span style=\"color: #00af00; text-decoration-color: #00af00\">51,200</span> │\n",
              "│ (<span style=\"color: #0087ff; text-decoration-color: #0087ff\">Conv2DTranspose</span>)                    │                             │                 │\n",
              "├──────────────────────────────────────┼─────────────────────────────┼─────────────────┤\n",
              "│ batch_normalization_78               │ (<span style=\"color: #00d7ff; text-decoration-color: #00d7ff\">None</span>, <span style=\"color: #00af00; text-decoration-color: #00af00\">96</span>, <span style=\"color: #00af00; text-decoration-color: #00af00\">112</span>, <span style=\"color: #00af00; text-decoration-color: #00af00\">32</span>)         │             <span style=\"color: #00af00; text-decoration-color: #00af00\">128</span> │\n",
              "│ (<span style=\"color: #0087ff; text-decoration-color: #0087ff\">BatchNormalization</span>)                 │                             │                 │\n",
              "├──────────────────────────────────────┼─────────────────────────────┼─────────────────┤\n",
              "│ leaky_re_lu_78 (<span style=\"color: #0087ff; text-decoration-color: #0087ff\">LeakyReLU</span>)           │ (<span style=\"color: #00d7ff; text-decoration-color: #00d7ff\">None</span>, <span style=\"color: #00af00; text-decoration-color: #00af00\">96</span>, <span style=\"color: #00af00; text-decoration-color: #00af00\">112</span>, <span style=\"color: #00af00; text-decoration-color: #00af00\">32</span>)         │               <span style=\"color: #00af00; text-decoration-color: #00af00\">0</span> │\n",
              "├──────────────────────────────────────┼─────────────────────────────┼─────────────────┤\n",
              "│ conv2d_15 (<span style=\"color: #0087ff; text-decoration-color: #0087ff\">Conv2D</span>)                   │ (<span style=\"color: #00d7ff; text-decoration-color: #00d7ff\">None</span>, <span style=\"color: #00af00; text-decoration-color: #00af00\">28</span>, <span style=\"color: #00af00; text-decoration-color: #00af00\">28</span>, <span style=\"color: #00af00; text-decoration-color: #00af00\">1</span>)           │         <span style=\"color: #00af00; text-decoration-color: #00af00\">187,681</span> │\n",
              "└──────────────────────────────────────┴─────────────────────────────┴─────────────────┘\n",
              "</pre>\n"
            ],
            "text/plain": [
              "┏━━━━━━━━━━━━━━━━━━━━━━━━━━━━━━━━━━━━━━┳━━━━━━━━━━━━━━━━━━━━━━━━━━━━━┳━━━━━━━━━━━━━━━━━┓\n",
              "┃\u001b[1m \u001b[0m\u001b[1mLayer (type)                        \u001b[0m\u001b[1m \u001b[0m┃\u001b[1m \u001b[0m\u001b[1mOutput Shape               \u001b[0m\u001b[1m \u001b[0m┃\u001b[1m \u001b[0m\u001b[1m        Param #\u001b[0m\u001b[1m \u001b[0m┃\n",
              "┡━━━━━━━━━━━━━━━━━━━━━━━━━━━━━━━━━━━━━━╇━━━━━━━━━━━━━━━━━━━━━━━━━━━━━╇━━━━━━━━━━━━━━━━━┩\n",
              "│ dense_15 (\u001b[38;5;33mDense\u001b[0m)                     │ (\u001b[38;5;45mNone\u001b[0m, \u001b[38;5;34m21504\u001b[0m)               │       \u001b[38;5;34m4,322,304\u001b[0m │\n",
              "├──────────────────────────────────────┼─────────────────────────────┼─────────────────┤\n",
              "│ batch_normalization_74               │ (\u001b[38;5;45mNone\u001b[0m, \u001b[38;5;34m21504\u001b[0m)               │          \u001b[38;5;34m86,016\u001b[0m │\n",
              "│ (\u001b[38;5;33mBatchNormalization\u001b[0m)                 │                             │                 │\n",
              "├──────────────────────────────────────┼─────────────────────────────┼─────────────────┤\n",
              "│ leaky_re_lu_74 (\u001b[38;5;33mLeakyReLU\u001b[0m)           │ (\u001b[38;5;45mNone\u001b[0m, \u001b[38;5;34m21504\u001b[0m)               │               \u001b[38;5;34m0\u001b[0m │\n",
              "├──────────────────────────────────────┼─────────────────────────────┼─────────────────┤\n",
              "│ reshape_15 (\u001b[38;5;33mReshape\u001b[0m)                 │ (\u001b[38;5;45mNone\u001b[0m, \u001b[38;5;34m6\u001b[0m, \u001b[38;5;34m7\u001b[0m, \u001b[38;5;34m512\u001b[0m)           │               \u001b[38;5;34m0\u001b[0m │\n",
              "├──────────────────────────────────────┼─────────────────────────────┼─────────────────┤\n",
              "│ conv2d_transpose_59                  │ (\u001b[38;5;45mNone\u001b[0m, \u001b[38;5;34m12\u001b[0m, \u001b[38;5;34m14\u001b[0m, \u001b[38;5;34m256\u001b[0m)         │       \u001b[38;5;34m3,276,800\u001b[0m │\n",
              "│ (\u001b[38;5;33mConv2DTranspose\u001b[0m)                    │                             │                 │\n",
              "├──────────────────────────────────────┼─────────────────────────────┼─────────────────┤\n",
              "│ batch_normalization_75               │ (\u001b[38;5;45mNone\u001b[0m, \u001b[38;5;34m12\u001b[0m, \u001b[38;5;34m14\u001b[0m, \u001b[38;5;34m256\u001b[0m)         │           \u001b[38;5;34m1,024\u001b[0m │\n",
              "│ (\u001b[38;5;33mBatchNormalization\u001b[0m)                 │                             │                 │\n",
              "├──────────────────────────────────────┼─────────────────────────────┼─────────────────┤\n",
              "│ leaky_re_lu_75 (\u001b[38;5;33mLeakyReLU\u001b[0m)           │ (\u001b[38;5;45mNone\u001b[0m, \u001b[38;5;34m12\u001b[0m, \u001b[38;5;34m14\u001b[0m, \u001b[38;5;34m256\u001b[0m)         │               \u001b[38;5;34m0\u001b[0m │\n",
              "├──────────────────────────────────────┼─────────────────────────────┼─────────────────┤\n",
              "│ conv2d_transpose_60                  │ (\u001b[38;5;45mNone\u001b[0m, \u001b[38;5;34m24\u001b[0m, \u001b[38;5;34m28\u001b[0m, \u001b[38;5;34m128\u001b[0m)         │         \u001b[38;5;34m819,200\u001b[0m │\n",
              "│ (\u001b[38;5;33mConv2DTranspose\u001b[0m)                    │                             │                 │\n",
              "├──────────────────────────────────────┼─────────────────────────────┼─────────────────┤\n",
              "│ batch_normalization_76               │ (\u001b[38;5;45mNone\u001b[0m, \u001b[38;5;34m24\u001b[0m, \u001b[38;5;34m28\u001b[0m, \u001b[38;5;34m128\u001b[0m)         │             \u001b[38;5;34m512\u001b[0m │\n",
              "│ (\u001b[38;5;33mBatchNormalization\u001b[0m)                 │                             │                 │\n",
              "├──────────────────────────────────────┼─────────────────────────────┼─────────────────┤\n",
              "│ leaky_re_lu_76 (\u001b[38;5;33mLeakyReLU\u001b[0m)           │ (\u001b[38;5;45mNone\u001b[0m, \u001b[38;5;34m24\u001b[0m, \u001b[38;5;34m28\u001b[0m, \u001b[38;5;34m128\u001b[0m)         │               \u001b[38;5;34m0\u001b[0m │\n",
              "├──────────────────────────────────────┼─────────────────────────────┼─────────────────┤\n",
              "│ conv2d_transpose_61                  │ (\u001b[38;5;45mNone\u001b[0m, \u001b[38;5;34m48\u001b[0m, \u001b[38;5;34m56\u001b[0m, \u001b[38;5;34m64\u001b[0m)          │         \u001b[38;5;34m204,800\u001b[0m │\n",
              "│ (\u001b[38;5;33mConv2DTranspose\u001b[0m)                    │                             │                 │\n",
              "├──────────────────────────────────────┼─────────────────────────────┼─────────────────┤\n",
              "│ batch_normalization_77               │ (\u001b[38;5;45mNone\u001b[0m, \u001b[38;5;34m48\u001b[0m, \u001b[38;5;34m56\u001b[0m, \u001b[38;5;34m64\u001b[0m)          │             \u001b[38;5;34m256\u001b[0m │\n",
              "│ (\u001b[38;5;33mBatchNormalization\u001b[0m)                 │                             │                 │\n",
              "├──────────────────────────────────────┼─────────────────────────────┼─────────────────┤\n",
              "│ leaky_re_lu_77 (\u001b[38;5;33mLeakyReLU\u001b[0m)           │ (\u001b[38;5;45mNone\u001b[0m, \u001b[38;5;34m48\u001b[0m, \u001b[38;5;34m56\u001b[0m, \u001b[38;5;34m64\u001b[0m)          │               \u001b[38;5;34m0\u001b[0m │\n",
              "├──────────────────────────────────────┼─────────────────────────────┼─────────────────┤\n",
              "│ conv2d_transpose_62                  │ (\u001b[38;5;45mNone\u001b[0m, \u001b[38;5;34m96\u001b[0m, \u001b[38;5;34m112\u001b[0m, \u001b[38;5;34m32\u001b[0m)         │          \u001b[38;5;34m51,200\u001b[0m │\n",
              "│ (\u001b[38;5;33mConv2DTranspose\u001b[0m)                    │                             │                 │\n",
              "├──────────────────────────────────────┼─────────────────────────────┼─────────────────┤\n",
              "│ batch_normalization_78               │ (\u001b[38;5;45mNone\u001b[0m, \u001b[38;5;34m96\u001b[0m, \u001b[38;5;34m112\u001b[0m, \u001b[38;5;34m32\u001b[0m)         │             \u001b[38;5;34m128\u001b[0m │\n",
              "│ (\u001b[38;5;33mBatchNormalization\u001b[0m)                 │                             │                 │\n",
              "├──────────────────────────────────────┼─────────────────────────────┼─────────────────┤\n",
              "│ leaky_re_lu_78 (\u001b[38;5;33mLeakyReLU\u001b[0m)           │ (\u001b[38;5;45mNone\u001b[0m, \u001b[38;5;34m96\u001b[0m, \u001b[38;5;34m112\u001b[0m, \u001b[38;5;34m32\u001b[0m)         │               \u001b[38;5;34m0\u001b[0m │\n",
              "├──────────────────────────────────────┼─────────────────────────────┼─────────────────┤\n",
              "│ conv2d_15 (\u001b[38;5;33mConv2D\u001b[0m)                   │ (\u001b[38;5;45mNone\u001b[0m, \u001b[38;5;34m28\u001b[0m, \u001b[38;5;34m28\u001b[0m, \u001b[38;5;34m1\u001b[0m)           │         \u001b[38;5;34m187,681\u001b[0m │\n",
              "└──────────────────────────────────────┴─────────────────────────────┴─────────────────┘\n"
            ]
          },
          "metadata": {},
          "output_type": "display_data"
        },
        {
          "data": {
            "text/html": [
              "<pre style=\"white-space:pre;overflow-x:auto;line-height:normal;font-family:Menlo,'DejaVu Sans Mono',consolas,'Courier New',monospace\"><span style=\"font-weight: bold\"> Total params: </span><span style=\"color: #00af00; text-decoration-color: #00af00\">8,949,921</span> (34.14 MB)\n",
              "</pre>\n"
            ],
            "text/plain": [
              "\u001b[1m Total params: \u001b[0m\u001b[38;5;34m8,949,921\u001b[0m (34.14 MB)\n"
            ]
          },
          "metadata": {},
          "output_type": "display_data"
        },
        {
          "data": {
            "text/html": [
              "<pre style=\"white-space:pre;overflow-x:auto;line-height:normal;font-family:Menlo,'DejaVu Sans Mono',consolas,'Courier New',monospace\"><span style=\"font-weight: bold\"> Trainable params: </span><span style=\"color: #00af00; text-decoration-color: #00af00\">8,905,953</span> (33.97 MB)\n",
              "</pre>\n"
            ],
            "text/plain": [
              "\u001b[1m Trainable params: \u001b[0m\u001b[38;5;34m8,905,953\u001b[0m (33.97 MB)\n"
            ]
          },
          "metadata": {},
          "output_type": "display_data"
        },
        {
          "data": {
            "text/html": [
              "<pre style=\"white-space:pre;overflow-x:auto;line-height:normal;font-family:Menlo,'DejaVu Sans Mono',consolas,'Courier New',monospace\"><span style=\"font-weight: bold\"> Non-trainable params: </span><span style=\"color: #00af00; text-decoration-color: #00af00\">43,968</span> (171.75 KB)\n",
              "</pre>\n"
            ],
            "text/plain": [
              "\u001b[1m Non-trainable params: \u001b[0m\u001b[38;5;34m43,968\u001b[0m (171.75 KB)\n"
            ]
          },
          "metadata": {},
          "output_type": "display_data"
        }
      ],
      "source": [
        "# Define el generador\n",
        "LATENT_DIM = 200\n",
        "\n",
        "generator = keras.Sequential([\n",
        "        # Capa de entrada para el ruido y la etiqueta de clase\n",
        "    layers.InputLayer(input_shape=(LATENT_DIM + NUM_CLASSES,)),\n",
        "\n",
        "    # Capa densa inicial\n",
        "    layers.Dense(6 * 7 * 512, use_bias=False),\n",
        "    layers.BatchNormalization(),\n",
        "    layers.LeakyReLU(),\n",
        "\n",
        "    # Redimensión a las dimensiones iniciales\n",
        "    layers.Reshape((6, 7, 512)),\n",
        "\n",
        "    # Primera capa de convolución\n",
        "    layers.Conv2DTranspose(256, (5, 5), strides=(2, 2), padding='same', use_bias=False),\n",
        "    layers.BatchNormalization(),\n",
        "    layers.LeakyReLU(),\n",
        "\n",
        "    # Segunda capa de convolución\n",
        "    layers.Conv2DTranspose(128, (5, 5), strides=(2, 2), padding='same', use_bias=False),\n",
        "    layers.BatchNormalization(),\n",
        "    layers.LeakyReLU(),\n",
        "\n",
        "    # Tercera capa de convolución\n",
        "    layers.Conv2DTranspose(64, (5, 5), strides=(2, 2), padding='same', use_bias=False),\n",
        "    layers.BatchNormalization(),\n",
        "    layers.LeakyReLU(),\n",
        "\n",
        "    # Cuarta capa de convolución\n",
        "    layers.Conv2DTranspose(32, (5, 5), strides=(2, 2), padding='same', use_bias=False),\n",
        "    layers.BatchNormalization(),\n",
        "    layers.LeakyReLU(),\n",
        "\n",
        "\n",
        "    # Capa final de ajuste a 28x28x1 (imagen en escala de grises)\n",
        "    layers.Conv2D(1, (69, 85), activation=\"tanh\")  # Cambio a 1 canal de salida y ajuste de tamaño de filtro\n",
        "\n",
        "\n",
        "])\n",
        "\n",
        "generator.summary()"
      ]
    },
    {
      "cell_type": "code",
      "execution_count": null,
      "metadata": {
        "colab": {
          "base_uri": "https://localhost:8080/"
        },
        "id": "RasW6VdP14-c",
        "outputId": "ed3a54ef-b96c-43dc-837f-06585d948ba5"
      },
      "outputs": [
        {
          "name": "stdout",
          "output_type": "stream",
          "text": [
            "dense_15: (1, 21504)\n",
            "batch_normalization_74: (1, 21504)\n",
            "leaky_re_lu_74: (1, 21504)\n",
            "reshape_15: (1, 6, 7, 512)\n",
            "conv2d_transpose_59: (1, 12, 14, 256)\n",
            "batch_normalization_75: (1, 12, 14, 256)\n",
            "leaky_re_lu_75: (1, 12, 14, 256)\n",
            "conv2d_transpose_60: (1, 24, 28, 128)\n",
            "batch_normalization_76: (1, 24, 28, 128)\n",
            "leaky_re_lu_76: (1, 24, 28, 128)\n",
            "conv2d_transpose_61: (1, 48, 56, 64)\n",
            "batch_normalization_77: (1, 48, 56, 64)\n",
            "leaky_re_lu_77: (1, 48, 56, 64)\n",
            "conv2d_transpose_62: (1, 96, 112, 32)\n",
            "batch_normalization_78: (1, 96, 112, 32)\n",
            "leaky_re_lu_78: (1, 96, 112, 32)\n",
            "conv2d_15: (1, 28, 28, 1)\n"
          ]
        }
      ],
      "source": [
        "# Dimensiones de cada capa\n",
        "noise = tf.random.normal([1, LATENT_DIM])\n",
        "x = noise\n",
        "for layer in generator.layers:\n",
        "  x = layer(x)\n",
        "  print(f\"{layer.name}: {x.shape}\")"
      ]
    },
    {
      "cell_type": "code",
      "execution_count": null,
      "metadata": {
        "colab": {
          "base_uri": "https://localhost:8080/"
        },
        "id": "frs_35nM1z0e",
        "outputId": "28c3a7fa-24a9-493c-c66d-17ef26b81693"
      },
      "outputs": [
        {
          "name": "stdout",
          "output_type": "stream",
          "text": [
            "Dimensiones de la imagen generada: (1, 28, 28, 1)\n"
          ]
        }
      ],
      "source": [
        "generated_image = generator(noise, training=False)\n",
        "print(\"Dimensiones de la imagen generada:\", generated_image.shape)"
      ]
    },
    {
      "cell_type": "code",
      "execution_count": null,
      "metadata": {
        "colab": {
          "base_uri": "https://localhost:8080/",
          "height": 216
        },
        "id": "IMp5UpS-8jNR",
        "outputId": "5462ef86-1ab9-44c4-e36f-7b9d00e3ca89"
      },
      "outputs": [
        {
          "name": "stdout",
          "output_type": "stream",
          "text": [
            "Dimensiones de la imagen generada: (1, 28, 28, 1)\n",
            "Rango de valores de la imagen generada: de -0.0077319923 a 0.013138329\n"
          ]
        },
        {
          "data": {
            "image/png": "[encoded data removed]",
            "text/plain": [
              "<Figure size 256x192 with 1 Axes>"
            ]
          },
          "metadata": {},
          "output_type": "display_data"
        }
      ],
      "source": [
        "# Comprueba que el generador está funcionando correctamente\n",
        "\n",
        "# Genera un vector latente aleatorio (ruido)\n",
        "noise = tf.random.normal([1, LATENT_DIM])\n",
        "\n",
        "# Genera una imagen utilizando el generador\n",
        "generated_image = generator(noise, training=False)\n",
        "\n",
        "# Muestra las dimensiones de la imagen generada\n",
        "\n",
        "print(\"Dimensiones de la imagen generada:\", generated_image.shape)\n",
        "\n",
        "# Verifica el rango de valores de la imagen generada\n",
        "print(\"Rango de valores de la imagen generada: de\", generated_image.numpy().min(), \"a\", generated_image.numpy().max())\n",
        "# muestra la imagen generada\n",
        "plt.figure(dpi=40)\n",
        "plt.imshow((generated_image[0] + 1) / 2, cmap=\"grey\") # Reescala la imagen al rango [0, 1] para visualizarla\n",
        "plt.axis('off')\n",
        "plt.title(\"Imagen creada por el generador\")\n",
        "plt.show()"
      ]
    },
    {
      "cell_type": "code",
      "execution_count": null,
      "metadata": {
        "id": "iZNJZOw8z-li"
      },
      "outputs": [],
      "source": [
        "# Define el discriminador\n",
        "discriminator = keras.Sequential([\n",
        "    layers.InputLayer(input_shape=(28, 28, 1 + NUM_CLASSES)),  # Imagen + etiqueta\n",
        "\n",
        "    # Concatenar la imagen y la etiqueta\n",
        "    layers.Reshape((28, 28, 1 + NUM_CLASSES)),\n",
        "\n",
        "    # Primera capa convolucional\n",
        "    layers.Conv2D(64, (5, 5), strides=(2, 2), padding='same'),\n",
        "    layers.LeakyReLU(),\n",
        "    layers.Dropout(0.3),\n",
        "\n",
        "    # Segunda capa convolucional\n",
        "    layers.Conv2D(128, (5, 5), strides=(2, 2), padding='same'),\n",
        "    layers.LeakyReLU(),\n",
        "    layers.Dropout(0.1),\n",
        "\n",
        "    # Aplana la salida\n",
        "    layers.Flatten(),\n",
        "    layers.Dense(1, activation=\"sigmoid\") # Decide si la imagen es real o generada\n",
        "\n",
        "])"
      ]
    },
    {
      "cell_type": "code",
      "execution_count": null,
      "metadata": {
        "colab": {
          "base_uri": "https://localhost:8080/",
          "height": 408
        },
        "id": "KGkd7CR-AiSN",
        "outputId": "b31f4f8c-dbda-4d84-b23a-0e43e62171c8"
      },
      "outputs": [
        {
          "data": {
            "text/html": [
              "<pre style=\"white-space:pre;overflow-x:auto;line-height:normal;font-family:Menlo,'DejaVu Sans Mono',consolas,'Courier New',monospace\"><span style=\"font-weight: bold\">Model: \"sequential_18\"</span>\n",
              "</pre>\n"
            ],
            "text/plain": [
              "\u001b[1mModel: \"sequential_18\"\u001b[0m\n"
            ]
          },
          "metadata": {},
          "output_type": "display_data"
        },
        {
          "data": {
            "text/html": [
              "<pre style=\"white-space:pre;overflow-x:auto;line-height:normal;font-family:Menlo,'DejaVu Sans Mono',consolas,'Courier New',monospace\">┏━━━━━━━━━━━━━━━━━━━━━━━━━━━━━━━━━━━━━━┳━━━━━━━━━━━━━━━━━━━━━━━━━━━━━┳━━━━━━━━━━━━━━━━━┓\n",
              "┃<span style=\"font-weight: bold\"> Layer (type)                         </span>┃<span style=\"font-weight: bold\"> Output Shape                </span>┃<span style=\"font-weight: bold\">         Param # </span>┃\n",
              "┡━━━━━━━━━━━━━━━━━━━━━━━━━━━━━━━━━━━━━━╇━━━━━━━━━━━━━━━━━━━━━━━━━━━━━╇━━━━━━━━━━━━━━━━━┩\n",
              "│ conv2d_20 (<span style=\"color: #0087ff; text-decoration-color: #0087ff\">Conv2D</span>)                   │ (<span style=\"color: #00d7ff; text-decoration-color: #00d7ff\">None</span>, <span style=\"color: #00af00; text-decoration-color: #00af00\">14</span>, <span style=\"color: #00af00; text-decoration-color: #00af00\">14</span>, <span style=\"color: #00af00; text-decoration-color: #00af00\">64</span>)          │           <span style=\"color: #00af00; text-decoration-color: #00af00\">1,664</span> │\n",
              "├──────────────────────────────────────┼─────────────────────────────┼─────────────────┤\n",
              "│ leaky_re_lu_83 (<span style=\"color: #0087ff; text-decoration-color: #0087ff\">LeakyReLU</span>)           │ (<span style=\"color: #00d7ff; text-decoration-color: #00d7ff\">None</span>, <span style=\"color: #00af00; text-decoration-color: #00af00\">14</span>, <span style=\"color: #00af00; text-decoration-color: #00af00\">14</span>, <span style=\"color: #00af00; text-decoration-color: #00af00\">64</span>)          │               <span style=\"color: #00af00; text-decoration-color: #00af00\">0</span> │\n",
              "├──────────────────────────────────────┼─────────────────────────────┼─────────────────┤\n",
              "│ dropout_4 (<span style=\"color: #0087ff; text-decoration-color: #0087ff\">Dropout</span>)                  │ (<span style=\"color: #00d7ff; text-decoration-color: #00d7ff\">None</span>, <span style=\"color: #00af00; text-decoration-color: #00af00\">14</span>, <span style=\"color: #00af00; text-decoration-color: #00af00\">14</span>, <span style=\"color: #00af00; text-decoration-color: #00af00\">64</span>)          │               <span style=\"color: #00af00; text-decoration-color: #00af00\">0</span> │\n",
              "├──────────────────────────────────────┼─────────────────────────────┼─────────────────┤\n",
              "│ conv2d_21 (<span style=\"color: #0087ff; text-decoration-color: #0087ff\">Conv2D</span>)                   │ (<span style=\"color: #00d7ff; text-decoration-color: #00d7ff\">None</span>, <span style=\"color: #00af00; text-decoration-color: #00af00\">7</span>, <span style=\"color: #00af00; text-decoration-color: #00af00\">7</span>, <span style=\"color: #00af00; text-decoration-color: #00af00\">128</span>)           │         <span style=\"color: #00af00; text-decoration-color: #00af00\">204,928</span> │\n",
              "├──────────────────────────────────────┼─────────────────────────────┼─────────────────┤\n",
              "│ leaky_re_lu_84 (<span style=\"color: #0087ff; text-decoration-color: #0087ff\">LeakyReLU</span>)           │ (<span style=\"color: #00d7ff; text-decoration-color: #00d7ff\">None</span>, <span style=\"color: #00af00; text-decoration-color: #00af00\">7</span>, <span style=\"color: #00af00; text-decoration-color: #00af00\">7</span>, <span style=\"color: #00af00; text-decoration-color: #00af00\">128</span>)           │               <span style=\"color: #00af00; text-decoration-color: #00af00\">0</span> │\n",
              "├──────────────────────────────────────┼─────────────────────────────┼─────────────────┤\n",
              "│ dropout_5 (<span style=\"color: #0087ff; text-decoration-color: #0087ff\">Dropout</span>)                  │ (<span style=\"color: #00d7ff; text-decoration-color: #00d7ff\">None</span>, <span style=\"color: #00af00; text-decoration-color: #00af00\">7</span>, <span style=\"color: #00af00; text-decoration-color: #00af00\">7</span>, <span style=\"color: #00af00; text-decoration-color: #00af00\">128</span>)           │               <span style=\"color: #00af00; text-decoration-color: #00af00\">0</span> │\n",
              "├──────────────────────────────────────┼─────────────────────────────┼─────────────────┤\n",
              "│ flatten_2 (<span style=\"color: #0087ff; text-decoration-color: #0087ff\">Flatten</span>)                  │ (<span style=\"color: #00d7ff; text-decoration-color: #00d7ff\">None</span>, <span style=\"color: #00af00; text-decoration-color: #00af00\">6272</span>)                │               <span style=\"color: #00af00; text-decoration-color: #00af00\">0</span> │\n",
              "├──────────────────────────────────────┼─────────────────────────────┼─────────────────┤\n",
              "│ dense_18 (<span style=\"color: #0087ff; text-decoration-color: #0087ff\">Dense</span>)                     │ (<span style=\"color: #00d7ff; text-decoration-color: #00d7ff\">None</span>, <span style=\"color: #00af00; text-decoration-color: #00af00\">1</span>)                   │           <span style=\"color: #00af00; text-decoration-color: #00af00\">6,273</span> │\n",
              "└──────────────────────────────────────┴─────────────────────────────┴─────────────────┘\n",
              "</pre>\n"
            ],
            "text/plain": [
              "┏━━━━━━━━━━━━━━━━━━━━━━━━━━━━━━━━━━━━━━┳━━━━━━━━━━━━━━━━━━━━━━━━━━━━━┳━━━━━━━━━━━━━━━━━┓\n",
              "┃\u001b[1m \u001b[0m\u001b[1mLayer (type)                        \u001b[0m\u001b[1m \u001b[0m┃\u001b[1m \u001b[0m\u001b[1mOutput Shape               \u001b[0m\u001b[1m \u001b[0m┃\u001b[1m \u001b[0m\u001b[1m        Param #\u001b[0m\u001b[1m \u001b[0m┃\n",
              "┡━━━━━━━━━━━━━━━━━━━━━━━━━━━━━━━━━━━━━━╇━━━━━━━━━━━━━━━━━━━━━━━━━━━━━╇━━━━━━━━━━━━━━━━━┩\n",
              "│ conv2d_20 (\u001b[38;5;33mConv2D\u001b[0m)                   │ (\u001b[38;5;45mNone\u001b[0m, \u001b[38;5;34m14\u001b[0m, \u001b[38;5;34m14\u001b[0m, \u001b[38;5;34m64\u001b[0m)          │           \u001b[38;5;34m1,664\u001b[0m │\n",
              "├──────────────────────────────────────┼─────────────────────────────┼─────────────────┤\n",
              "│ leaky_re_lu_83 (\u001b[38;5;33mLeakyReLU\u001b[0m)           │ (\u001b[38;5;45mNone\u001b[0m, \u001b[38;5;34m14\u001b[0m, \u001b[38;5;34m14\u001b[0m, \u001b[38;5;34m64\u001b[0m)          │               \u001b[38;5;34m0\u001b[0m │\n",
              "├──────────────────────────────────────┼─────────────────────────────┼─────────────────┤\n",
              "│ dropout_4 (\u001b[38;5;33mDropout\u001b[0m)                  │ (\u001b[38;5;45mNone\u001b[0m, \u001b[38;5;34m14\u001b[0m, \u001b[38;5;34m14\u001b[0m, \u001b[38;5;34m64\u001b[0m)          │               \u001b[38;5;34m0\u001b[0m │\n",
              "├──────────────────────────────────────┼─────────────────────────────┼─────────────────┤\n",
              "│ conv2d_21 (\u001b[38;5;33mConv2D\u001b[0m)                   │ (\u001b[38;5;45mNone\u001b[0m, \u001b[38;5;34m7\u001b[0m, \u001b[38;5;34m7\u001b[0m, \u001b[38;5;34m128\u001b[0m)           │         \u001b[38;5;34m204,928\u001b[0m │\n",
              "├──────────────────────────────────────┼─────────────────────────────┼─────────────────┤\n",
              "│ leaky_re_lu_84 (\u001b[38;5;33mLeakyReLU\u001b[0m)           │ (\u001b[38;5;45mNone\u001b[0m, \u001b[38;5;34m7\u001b[0m, \u001b[38;5;34m7\u001b[0m, \u001b[38;5;34m128\u001b[0m)           │               \u001b[38;5;34m0\u001b[0m │\n",
              "├──────────────────────────────────────┼─────────────────────────────┼─────────────────┤\n",
              "│ dropout_5 (\u001b[38;5;33mDropout\u001b[0m)                  │ (\u001b[38;5;45mNone\u001b[0m, \u001b[38;5;34m7\u001b[0m, \u001b[38;5;34m7\u001b[0m, \u001b[38;5;34m128\u001b[0m)           │               \u001b[38;5;34m0\u001b[0m │\n",
              "├──────────────────────────────────────┼─────────────────────────────┼─────────────────┤\n",
              "│ flatten_2 (\u001b[38;5;33mFlatten\u001b[0m)                  │ (\u001b[38;5;45mNone\u001b[0m, \u001b[38;5;34m6272\u001b[0m)                │               \u001b[38;5;34m0\u001b[0m │\n",
              "├──────────────────────────────────────┼─────────────────────────────┼─────────────────┤\n",
              "│ dense_18 (\u001b[38;5;33mDense\u001b[0m)                     │ (\u001b[38;5;45mNone\u001b[0m, \u001b[38;5;34m1\u001b[0m)                   │           \u001b[38;5;34m6,273\u001b[0m │\n",
              "└──────────────────────────────────────┴─────────────────────────────┴─────────────────┘\n"
            ]
          },
          "metadata": {},
          "output_type": "display_data"
        },
        {
          "data": {
            "text/html": [
              "<pre style=\"white-space:pre;overflow-x:auto;line-height:normal;font-family:Menlo,'DejaVu Sans Mono',consolas,'Courier New',monospace\"><span style=\"font-weight: bold\"> Total params: </span><span style=\"color: #00af00; text-decoration-color: #00af00\">212,865</span> (831.50 KB)\n",
              "</pre>\n"
            ],
            "text/plain": [
              "\u001b[1m Total params: \u001b[0m\u001b[38;5;34m212,865\u001b[0m (831.50 KB)\n"
            ]
          },
          "metadata": {},
          "output_type": "display_data"
        },
        {
          "data": {
            "text/html": [
              "<pre style=\"white-space:pre;overflow-x:auto;line-height:normal;font-family:Menlo,'DejaVu Sans Mono',consolas,'Courier New',monospace\"><span style=\"font-weight: bold\"> Trainable params: </span><span style=\"color: #00af00; text-decoration-color: #00af00\">212,865</span> (831.50 KB)\n",
              "</pre>\n"
            ],
            "text/plain": [
              "\u001b[1m Trainable params: \u001b[0m\u001b[38;5;34m212,865\u001b[0m (831.50 KB)\n"
            ]
          },
          "metadata": {},
          "output_type": "display_data"
        },
        {
          "data": {
            "text/html": [
              "<pre style=\"white-space:pre;overflow-x:auto;line-height:normal;font-family:Menlo,'DejaVu Sans Mono',consolas,'Courier New',monospace\"><span style=\"font-weight: bold\"> Non-trainable params: </span><span style=\"color: #00af00; text-decoration-color: #00af00\">0</span> (0.00 B)\n",
              "</pre>\n"
            ],
            "text/plain": [
              "\u001b[1m Non-trainable params: \u001b[0m\u001b[38;5;34m0\u001b[0m (0.00 B)\n"
            ]
          },
          "metadata": {},
          "output_type": "display_data"
        }
      ],
      "source": [
        "# Muestra el resumen del modelo\n",
        "discriminator.summary()"
      ]
    },
    {
      "cell_type": "code",
      "execution_count": null,
      "metadata": {
        "colab": {
          "base_uri": "https://localhost:8080/"
        },
        "id": "WQ1g9qPLAjad",
        "outputId": "31e29bd7-ed6e-485a-c235-db2afa66299b"
      },
      "outputs": [
        {
          "name": "stdout",
          "output_type": "stream",
          "text": [
            "Decisión del discriminador (valor cercano a 0 = falsa, 1 = real): [[0.5000201]]\n"
          ]
        }
      ],
      "source": [
        "# Prueba el discriminador con la imagen cread por el generador\n",
        "\n",
        "noise = tf.random.normal([1, LATENT_DIM])\n",
        "generated_image = generator(noise, training=False)\n",
        "\n",
        "# Pasa la imagen por el discriminador\n",
        "decision = discriminator(generated_image)\n",
        "print(\"Decisión del discriminador (valor cercano a 0 = falsa, 1 = real):\", decision.numpy())"
      ]
    },
    {
      "cell_type": "markdown",
      "metadata": {
        "id": "iBuA-EJlB5aQ"
      },
      "source": [
        "Es normal que el discriminador indique incertidumbre por que todavía no hemos entrenado la GAN."
      ]
    },
    {
      "cell_type": "code",
      "execution_count": null,
      "metadata": {
        "colab": {
          "base_uri": "https://localhost:8080/"
        },
        "id": "VxXJUrcMA9mR",
        "outputId": "99cb7487-f4b1-4231-a5e4-af56ab6d5f85"
      },
      "outputs": [
        {
          "name": "stdout",
          "output_type": "stream",
          "text": [
            "Dimensiones del lote: (64, 28, 28, 1)\n"
          ]
        }
      ],
      "source": [
        "# Inpecciona un lote del dataset\n",
        "for batch in dataset.take(1):\n",
        "  print(\"Dimensiones del lote:\", batch.shape)\n",
        "  break"
      ]
    },
    {
      "cell_type": "code",
      "execution_count": null,
      "metadata": {
        "id": "Zf29fcLdDVgL"
      },
      "outputs": [],
      "source": [
        "# Parámetros del entrenamiento\n",
        "EPOCHS = 100\n",
        "# LATENT_DIM = 100\n",
        "# BATCH_SIZE = 32"
      ]
    },
    {
      "cell_type": "code",
      "execution_count": null,
      "metadata": {
        "id": "Xsb_hZigDqmB"
      },
      "outputs": [],
      "source": [
        "# Inicializa los optimizadores y la función de pérdida\n",
        "cross_entropy = keras.losses.BinaryCrossentropy(from_logits=False) # No se necita logits poque la última capa era una sigmoide\n",
        "generator_optimizer = Adam(1e-4)\n",
        "discriminator_optimizer = Adam(1e-4)"
      ]
    },
    {
      "cell_type": "markdown",
      "metadata": {
        "id": "TnCfQLmbFm6M"
      },
      "source": [
        "**Gradientes**: Son vectores que indican dirección y magnitud en la que aujstarse los pesos de un modelo para minimizar una función de pérdida."
      ]
    },
    {
      "cell_type": "code",
      "execution_count": null,
      "metadata": {
        "colab": {
          "background_save": true,
          "base_uri": "https://localhost:8080/"
        },
        "id": "ektduIUen6qF",
        "outputId": "bbfe744d-6b04-4014-a46a-b3203a7b6470"
      },
      "outputs": [
        {
          "name": "stdout",
          "output_type": "stream",
          "text": [
            "Época 1/100\n",
            "Pérdida del discriminador: 1.392619013786316, Pérdida del generador: 0.724014163017273\n",
            "Pérdida del discriminador: 1.5242135524749756, Pérdida del generador: 0.6102299690246582\n",
            "Pérdida del discriminador: 1.5341157913208008, Pérdida del generador: 0.5552671551704407\n",
            "Pérdida del discriminador: 1.6250979900360107, Pérdida del generador: 0.5071767568588257\n",
            "Pérdida del discriminador: 1.6137999296188354, Pérdida del generador: 0.5054274797439575\n",
            "Pérdida del discriminador: 1.6254128217697144, Pérdida del generador: 0.48454028367996216\n",
            "Pérdida del discriminador: 1.5942429304122925, Pérdida del generador: 0.4911723732948303\n",
            "Pérdida del discriminador: 1.585682988166809, Pérdida del generador: 0.49996405839920044\n",
            "Pérdida del discriminador: 1.5445594787597656, Pérdida del generador: 0.5209252834320068\n",
            "Pérdida del discriminador: 1.4944796562194824, Pérdida del generador: 0.5481816530227661\n",
            "Pérdida del discriminador: 1.4622135162353516, Pérdida del generador: 0.5726286172866821\n",
            "Pérdida del discriminador: 1.4331166744232178, Pérdida del generador: 0.5918014049530029\n",
            "Pérdida del discriminador: 1.3987171649932861, Pérdida del generador: 0.6114193201065063\n",
            "Pérdida del discriminador: 1.3887735605239868, Pérdida del generador: 0.6276759505271912\n",
            "Pérdida del discriminador: 1.3750245571136475, Pérdida del generador: 0.6279245615005493\n",
            "Pérdida del discriminador: 1.3701934814453125, Pérdida del generador: 0.6316921710968018\n",
            "Pérdida del discriminador: 1.3397120237350464, Pérdida del generador: 0.6520483493804932\n",
            "Pérdida del discriminador: 1.3326921463012695, Pérdida del generador: 0.6671976447105408\n",
            "Pérdida del discriminador: 1.2869195938110352, Pérdida del generador: 0.686837375164032\n",
            "Pérdida del discriminador: 1.284319519996643, Pérdida del generador: 0.707832932472229\n",
            "Pérdida del discriminador: 1.2749766111373901, Pérdida del generador: 0.7380803823471069\n",
            "Pérdida del discriminador: 1.267092227935791, Pérdida del generador: 0.7799715995788574\n",
            "Pérdida del discriminador: 1.2233116626739502, Pérdida del generador: 0.8291932344436646\n",
            "Pérdida del discriminador: 1.1651387214660645, Pérdida del generador: 0.876961350440979\n",
            "Pérdida del discriminador: 1.155596137046814, Pérdida del generador: 0.9359655976295471\n",
            "Pérdida del discriminador: 1.0831304788589478, Pérdida del generador: 0.9979550838470459\n",
            "Pérdida del discriminador: 1.0776305198669434, Pérdida del generador: 1.0605908632278442\n",
            "Pérdida del discriminador: 1.0472794771194458, Pérdida del generador: 1.1300020217895508\n",
            "Pérdida del discriminador: 0.9979007244110107, Pérdida del generador: 1.1983799934387207\n",
            "Pérdida del discriminador: 1.0151176452636719, Pérdida del generador: 1.272918701171875\n",
            "Pérdida del discriminador: 0.9937906265258789, Pérdida del generador: 1.3416787385940552\n",
            "Pérdida del discriminador: 0.9905655384063721, Pérdida del generador: 1.4150291681289673\n",
            "Pérdida del discriminador: 0.9690665006637573, Pérdida del generador: 1.4815725088119507\n",
            "Pérdida del discriminador: 0.9573630094528198, Pérdida del generador: 1.5426723957061768\n",
            "Pérdida del discriminador: 0.8927536010742188, Pérdida del generador: 1.6067888736724854\n",
            "Pérdida del discriminador: 0.8943989872932434, Pérdida del generador: 1.6626771688461304\n",
            "Pérdida del discriminador: 0.8851656913757324, Pérdida del generador: 1.7086102962493896\n",
            "Pérdida del discriminador: 0.8262351751327515, Pérdida del generador: 1.7523287534713745\n",
            "Pérdida del discriminador: 0.84086012840271, Pérdida del generador: 1.7901890277862549\n",
            "Pérdida del discriminador: 0.7807322144508362, Pérdida del generador: 1.8253754377365112\n",
            "Pérdida del discriminador: 0.8315660953521729, Pérdida del generador: 1.8518574237823486\n",
            "Pérdida del discriminador: 0.8222566843032837, Pérdida del generador: 1.8696366548538208\n",
            "Pérdida del discriminador: 0.8239961266517639, Pérdida del generador: 1.879291296005249\n",
            "Pérdida del discriminador: 0.7747179269790649, Pérdida del generador: 1.8651964664459229\n",
            "Pérdida del discriminador: 0.6813646554946899, Pérdida del generador: 1.8630030155181885\n",
            "Pérdida del discriminador: 0.7764022350311279, Pérdida del generador: 1.8563816547393799\n",
            "Pérdida del discriminador: 0.7089492082595825, Pérdida del generador: 1.844677448272705\n",
            "Pérdida del discriminador: 0.623441755771637, Pérdida del generador: 1.835598349571228\n",
            "Pérdida del discriminador: 0.6878174543380737, Pérdida del generador: 1.8244330883026123\n",
            "Pérdida del discriminador: 0.6568158864974976, Pérdida del generador: 1.8125888109207153\n",
            "Pérdida del discriminador: 0.758516252040863, Pérdida del generador: 1.7949886322021484\n",
            "Pérdida del discriminador: 0.552763819694519, Pérdida del generador: 1.7840383052825928\n",
            "Pérdida del discriminador: 0.5682779550552368, Pérdida del generador: 1.7789173126220703\n",
            "Pérdida del discriminador: 0.578182578086853, Pérdida del generador: 1.7746773958206177\n",
            "Pérdida del discriminador: 0.5912802219390869, Pérdida del generador: 1.7795469760894775\n",
            "Pérdida del discriminador: 0.5635668039321899, Pérdida del generador: 1.7901835441589355\n",
            "Pérdida del discriminador: 0.5044896602630615, Pérdida del generador: 1.8064043521881104\n",
            "Pérdida del discriminador: 0.5057761073112488, Pérdida del generador: 1.832036018371582\n",
            "Pérdida del discriminador: 0.5057034492492676, Pérdida del generador: 1.8634376525878906\n",
            "Pérdida del discriminador: 0.46592551469802856, Pérdida del generador: 1.9043877124786377\n",
            "Pérdida del discriminador: 0.5204644203186035, Pérdida del generador: 1.9387152194976807\n",
            "Pérdida del discriminador: 0.42250144481658936, Pérdida del generador: 1.987971305847168\n",
            "Pérdida del discriminador: 0.39785462617874146, Pérdida del generador: 2.0450456142425537\n",
            "Pérdida del discriminador: 0.5356427431106567, Pérdida del generador: 2.0916647911071777\n",
            "Pérdida del discriminador: 0.4057264029979706, Pérdida del generador: 2.1463623046875\n",
            "Pérdida del discriminador: 0.38656580448150635, Pérdida del generador: 2.206139087677002\n",
            "Pérdida del discriminador: 0.5127836465835571, Pérdida del generador: 2.24534273147583\n",
            "Pérdida del discriminador: 0.41344308853149414, Pérdida del generador: 2.277860403060913\n",
            "Pérdida del discriminador: 0.43073761463165283, Pérdida del generador: 2.2962441444396973\n",
            "Pérdida del discriminador: 0.313018262386322, Pérdida del generador: 2.326441526412964\n",
            "Pérdida del discriminador: 0.24378080666065216, Pérdida del generador: 2.3735878467559814\n",
            "Pérdida del discriminador: 0.37980204820632935, Pérdida del generador: 2.401150941848755\n",
            "Pérdida del discriminador: 0.30397844314575195, Pérdida del generador: 2.4353151321411133\n",
            "Pérdida del discriminador: 0.31504252552986145, Pérdida del generador: 2.4630916118621826\n",
            "Pérdida del discriminador: 0.4533788561820984, Pérdida del generador: 2.4582839012145996\n",
            "Pérdida del discriminador: 0.285246878862381, Pérdida del generador: 2.4598593711853027\n",
            "Pérdida del discriminador: 0.3646935522556305, Pérdida del generador: 2.451261281967163\n",
            "Pérdida del discriminador: 0.23221555352210999, Pérdida del generador: 2.4595348834991455\n",
            "Pérdida del discriminador: 0.29214316606521606, Pérdida del generador: 2.4651474952697754\n",
            "Pérdida del discriminador: 0.29326802492141724, Pérdida del generador: 2.4722156524658203\n",
            "Pérdida del discriminador: 0.29659390449523926, Pérdida del generador: 2.475059986114502\n",
            "Pérdida del discriminador: 0.27723005414009094, Pérdida del generador: 2.4856224060058594\n",
            "Pérdida del discriminador: 0.3309175670146942, Pérdida del generador: 2.4888148307800293\n",
            "Pérdida del discriminador: 0.24987411499023438, Pérdida del generador: 2.4994571208953857\n",
            "Pérdida del discriminador: 0.22158575057983398, Pérdida del generador: 2.539191246032715\n",
            "Pérdida del discriminador: 0.25429219007492065, Pérdida del generador: 2.590327024459839\n",
            "Pérdida del discriminador: 0.2968147397041321, Pérdida del generador: 2.6311450004577637\n",
            "Pérdida del discriminador: 0.245273619890213, Pérdida del generador: 2.6775553226470947\n",
            "Pérdida del discriminador: 0.3082784116268158, Pérdida del generador: 2.717438220977783\n",
            "Pérdida del discriminador: 0.21239033341407776, Pérdida del generador: 2.768834352493286\n",
            "Pérdida del discriminador: 0.30625805258750916, Pérdida del generador: 2.8107423782348633\n",
            "Pérdida del discriminador: 0.2501594126224518, Pérdida del generador: 2.838597536087036\n",
            "Pérdida del discriminador: 0.2791023850440979, Pérdida del generador: 2.8511977195739746\n",
            "Pérdida del discriminador: 0.19736728072166443, Pérdida del generador: 2.860419273376465\n",
            "Pérdida del discriminador: 0.2234627604484558, Pérdida del generador: 2.8748602867126465\n",
            "Pérdida del discriminador: 0.24863871932029724, Pérdida del generador: 2.8749074935913086\n",
            "Pérdida del discriminador: 0.2691814601421356, Pérdida del generador: 2.8517065048217773\n",
            "Pérdida del discriminador: 0.21210311353206635, Pérdida del generador: 2.825906753540039\n",
            "Pérdida del discriminador: 0.15987351536750793, Pérdida del generador: 2.828733205795288\n",
            "Pérdida del discriminador: 0.2178073227405548, Pérdida del generador: 2.825812816619873\n",
            "Pérdida del discriminador: 0.14863911271095276, Pérdida del generador: 2.8505492210388184\n",
            "Pérdida del discriminador: 0.24698324501514435, Pérdida del generador: 2.8730721473693848\n",
            "Pérdida del discriminador: 0.17448826134204865, Pérdida del generador: 2.9131650924682617\n",
            "Pérdida del discriminador: 0.22761979699134827, Pérdida del generador: 2.953240394592285\n",
            "Pérdida del discriminador: 0.11736541241407394, Pérdida del generador: 3.024036407470703\n",
            "Pérdida del discriminador: 0.1918453723192215, Pérdida del generador: 3.083649158477783\n",
            "Pérdida del discriminador: 0.20604375004768372, Pérdida del generador: 3.1233320236206055\n",
            "Pérdida del discriminador: 0.16832253336906433, Pérdida del generador: 3.151282787322998\n",
            "Pérdida del discriminador: 0.2366715967655182, Pérdida del generador: 3.15391206741333\n",
            "Pérdida del discriminador: 0.1737150102853775, Pérdida del generador: 3.155036687850952\n",
            "Pérdida del discriminador: 0.14909900724887848, Pérdida del generador: 3.1573641300201416\n",
            "Pérdida del discriminador: 0.17054107785224915, Pérdida del generador: 3.169877529144287\n",
            "Pérdida del discriminador: 0.17961034178733826, Pérdida del generador: 3.1792502403259277\n",
            "Pérdida del discriminador: 0.2004268765449524, Pérdida del generador: 3.174783706665039\n",
            "Pérdida del discriminador: 0.14930015802383423, Pérdida del generador: 3.167558193206787\n",
            "Pérdida del discriminador: 0.1736297458410263, Pérdida del generador: 3.1609549522399902\n",
            "Pérdida del discriminador: 0.15101391077041626, Pérdida del generador: 3.163515567779541\n",
            "Pérdida del discriminador: 0.12606462836265564, Pérdida del generador: 3.1970481872558594\n",
            "Pérdida del discriminador: 0.19974800944328308, Pérdida del generador: 3.2132582664489746\n",
            "Pérdida del discriminador: 0.11542342603206635, Pérdida del generador: 3.2448954582214355\n",
            "Pérdida del discriminador: 0.16032829880714417, Pérdida del generador: 3.292370319366455\n",
            "Pérdida del discriminador: 0.2240617871284485, Pérdida del generador: 3.3016111850738525\n",
            "Pérdida del discriminador: 0.19408930838108063, Pérdida del generador: 3.2910892963409424\n",
            "Pérdida del discriminador: 0.24454852938652039, Pérdida del generador: 3.2533626556396484\n",
            "Pérdida del discriminador: 0.09148366749286652, Pérdida del generador: 3.2457923889160156\n",
            "Pérdida del discriminador: 0.1273500621318817, Pérdida del generador: 3.260899066925049\n",
            "Pérdida del discriminador: 0.13867828249931335, Pérdida del generador: 3.286654472351074\n",
            "Pérdida del discriminador: 0.10830629616975784, Pérdida del generador: 3.3350462913513184\n",
            "Pérdida del discriminador: 0.27969563007354736, Pérdida del generador: 3.320916175842285\n",
            "Pérdida del discriminador: 0.1481531411409378, Pérdida del generador: 3.3166749477386475\n",
            "Pérdida del discriminador: 0.1065816581249237, Pérdida del generador: 3.334420680999756\n",
            "Pérdida del discriminador: 0.06380718946456909, Pérdida del generador: 3.4257569313049316\n",
            "Pérdida del discriminador: 0.14245910942554474, Pérdida del generador: 3.49749755859375\n",
            "Pérdida del discriminador: 0.14814957976341248, Pérdida del generador: 3.542132616043091\n",
            "Pérdida del discriminador: 0.10545673966407776, Pérdida del generador: 3.5886917114257812\n",
            "Pérdida del discriminador: 0.13760364055633545, Pérdida del generador: 3.624504566192627\n"
          ]
        }
      ],
      "source": [
        "# # Entrenamiento de la GAN\n",
        "# for epoch in range(EPOCHS):\n",
        "#     print(f\"Época {epoch + 1}/{EPOCHS}\")\n",
        "\n",
        "#     for real_images in dataset:\n",
        "#         # Obtiene el tamaño del lote actual\n",
        "#         current_batch_size = real_images.shape[0]\n",
        "\n",
        "#         # Genera ruido aleatorio para crear imágenes falsas\n",
        "#         noise = tf.random.normal([current_batch_size, LATENT_DIM])\n",
        "\n",
        "#         # Crea imágenes falsas con el generador\n",
        "#         generated_images = generator(noise, training=True)\n",
        "\n",
        "#         # Etiquetas realies y falsas\n",
        "#         real_labels = tf.ones((current_batch_size, 1)) # Imágenes reales (etiqueta = 1)\n",
        "#         fake_labels = tf.zeros((current_batch_size, 1)) # Imágenes generadas (etiqueta = 0)\n",
        "\n",
        "#         # Entrena el discriminador\n",
        "#         with tf.GradientTape() as disc_tape: # Crea un contexto de gradiente para calcular la pérdida del discriminador.\n",
        "#             # Obtiene las predicciones del discriminador para las imágenes reales.\n",
        "#             real_output = discriminator(real_images, training=True)\n",
        "#             # Obtiene las predicciones del discriminador para las imágenes falsas/generadas.\n",
        "#             fake_output = discriminator(generated_images, training=True)\n",
        "#             # Calcula la pérdida del discriminador para las imágenes reales.\n",
        "#             disc_loss_real = cross_entropy(real_labels, real_output)\n",
        "#             # Calcula la pérdida del discriminador para las imágenes generadas (fake).\n",
        "#             disc_loss_fake = cross_entropy(fake_labels, fake_output)\n",
        "#             # Suma ambas pérdidas para obtener la pérdida todal del discriminador.\n",
        "#             disc_loss = disc_loss_real + disc_loss_fake\n",
        "\n",
        "#         # Calcula los gradientes de la pérdida con respecto a las variables entrenables del discriminador\n",
        "#         gradients_of_discriminator = disc_tape.gradient(disc_loss, discriminator.trainable_variables)\n",
        "#         # Aplica los gradientes para actualizar los pesos del discriminador.\n",
        "#         discriminator_optimizer.apply_gradients(zip(gradients_of_discriminator, discriminator.trainable_variables))\n",
        "\n",
        "#         # Genera ruido nuevamente para entrenar el generador\n",
        "#         noise = tf.random.normal([current_batch_size, LATENT_DIM])\n",
        "\n",
        "#         # Entrena el generador\n",
        "#         with tf.GradientTape() as gen_tape: # Crea un contexto de gradiente para calcular la pérdida del generador.\n",
        "#             # Crea imágenes falsas con el generador\n",
        "#             generated_images = generator(noise, training=True)\n",
        "#             # Evalúa las imágenes generadas con el discriminador (sin actualizar los pesos).\n",
        "#             fake_output = discriminator(generated_images, training=False)\n",
        "#             # Calcula la pérdida del generador intentando \"engañar\" al discriminador.\n",
        "#             gen_loss = cross_entropy(real_labels, fake_output)\n",
        "\n",
        "#         # Calcula los gradientes de la pérdida con respecto a las variables entrenables del generador.\n",
        "#         gradients_of_generator = gen_tape.gradient(gen_loss, generator.trainable_variables)\n",
        "#         # Aplica los gradientes para actualizar los pesos del generador.\n",
        "#         generator_optimizer.apply_gradients(zip(gradients_of_generator, generator.trainable_variables))\n",
        "\n",
        "#         # Muestra la pérdida de cada red neuronal\n",
        "#         print(f\"Pérdida del discriminador: {disc_loss.numpy()}, Pérdida del generador: {gen_loss.numpy()}\")\n",
        "\n",
        "#     # Guarda la GAN en ficheros\n",
        "#     generator.save(f\"generador_caras_{epoch + 1}ep_2000img.keras\")\n",
        "#     discriminator.save(f\"discriminador_{epoch + 1}ep_2000img.keras\")\n",
        "#     # Muestra el progreso cada 2 épocas\n",
        "#     #if (epoch + 1) % 2 == 0 or epoch == EPOCHS - 1:\n",
        "#     if True:\n",
        "#         # Genera y muestra imágenes de ejemplo\n",
        "#         noise = tf.random.normal([16, LATENT_DIM])\n",
        "#         generated_images = generator(noise, training=False)\n",
        "#         generated_images = (generated_images + 1) / 2 # Reescala de [-1, 1] a [0, 1]\n",
        "\n",
        "#         fig, axes = plt.subplots(4, 4, figsize=(6, 6))\n",
        "#         for img, ax in zip(generated_images, axes.flatten()):\n",
        "#             ax.imshow(img)\n",
        "#             ax.axis(\"off\")\n",
        "#         plt.show()"
      ]
    },
    {
      "cell_type": "code",
      "execution_count": null,
      "metadata": {
        "id": "3soNLxeC0zr7"
      },
      "outputs": [],
      "source": [
        "# Entrenamiento del cGAN\n",
        "EPOCHS = 100\n",
        "\n",
        "for epoch in range(EPOCHS):\n",
        "    print(f\"Época {epoch + 1}/{EPOCHS}\")\n",
        "\n",
        "    for real_images, labels in dataset:\n",
        "        current_batch_size = real_images.shape[0]\n",
        "\n",
        "        # Genera ruido aleatorio para crear imágenes falsas\n",
        "        noise = tf.random.normal([current_batch_size, LATENT_DIM])\n",
        "        # Concatenar ruido y etiqueta\n",
        "        label_one_hot = tf.one_hot(labels, NUM_CLASSES)\n",
        "        gen_input = tf.concat([noise, label_one_hot], axis=1)\n",
        "\n",
        "        # Crea imágenes falsas con el generador\n",
        "        generated_images = generator(gen_input, training=True)\n",
        "\n",
        "        # Etiquetas reales y falsas\n",
        "        real_labels = tf.ones((current_batch_size, 1))  # Imágenes reales (etiqueta = 1)\n",
        "        fake_labels = tf.zeros((current_batch_size, 1))  # Imágenes generadas (etiqueta = 0)\n",
        "\n",
        "        # Entrena el discriminador\n",
        "        with tf.GradientTape() as disc_tape:\n",
        "            # Concatenar imagen real con etiqueta\n",
        "            real_input = tf.concat([real_images, tf.one_hot(labels, NUM_CLASSES)], axis=-1)\n",
        "            real_output = discriminator(real_input, training=True)\n",
        "\n",
        "            # Concatenar imagen generada con etiqueta\n",
        "            fake_input = tf.concat([generated_images, label_one_hot], axis=-1)\n",
        "            fake_output = discriminator(fake_input, training=True)\n",
        "\n",
        "            # Calcula la pérdida del discriminador\n",
        "            disc_loss_real = cross_entropy(real_labels, real_output)\n",
        "            disc_loss_fake = cross_entropy(fake_labels, fake_output)\n",
        "            disc_loss = disc_loss_real + disc_loss_fake\n",
        "\n",
        "        # Actualiza los pesos del discriminador\n",
        "        gradients_of_discriminator = disc_tape.gradient(disc_loss, discriminator.trainable_variables)\n",
        "        discriminator_optimizer.apply_gradients(zip(gradients_of_discriminator, discriminator.trainable_variables))\n",
        "\n",
        "        # Entrenamiento del generador\n",
        "        with tf.GradientTape() as gen_tape:\n",
        "            fake_output = discriminator(fake_input, training=False)\n",
        "            gen_loss = cross_entropy(real_labels, fake_output)\n",
        "\n",
        "        gradients_of_generator = gen_tape.gradient(gen_loss, generator.trainable_variables)\n",
        "        generator_optimizer.apply_gradients(zip(gradients_of_generator, generator.trainable_variables))\n",
        "\n",
        "        # Mostrar progreso\n",
        "        print(f\"Pérdida del discriminador: {disc_loss.numpy()}, Pérdida del generador: {gen_loss.numpy()}\")\n",
        "\n",
        "    # Muestra las imágenes generadas cada 2 épocas\n",
        "    if (epoch + 1) % 2 == 0 or epoch == EPOCHS - 1:\n",
        "        noise = tf.random.normal([16, LATENT_DIM])\n",
        "        labels = tf.random.uniform([16], minval=0, maxval=NUM_CLASSES, dtype=tf.int32)\n",
        "        label_one_hot = tf.one_hot(labels, NUM_CLASSES)\n",
        "        gen_input = tf.concat([noise, label_one_hot], axis=1)\n",
        "        generated_images = generator(gen_input, training=False)\n",
        "        generated_images = (generated_images + 1) / 2  # Reescala de [-1, 1] a [0, 1]\n",
        "\n",
        "        fig, axes = plt.subplots(4, 4, figsize=(6, 6))\n",
        "        for img, ax in zip(generated_images, axes.flatten()):\n",
        "            ax.imshow(img.numpy().reshape(28, 28), cmap='gray')\n",
        "            ax.axis(\"off\")\n",
        "        plt.show()\n"
      ]
    },
    {
      "cell_type": "code",
      "execution_count": null,
      "metadata": {
        "id": "AV0YFhLfWfXj"
      },
      "outputs": [],
      "source": [
        "# Graba en disco los modelos.\n",
        "generator.save(\"generador_caras_100ep_2000img.keras\")\n",
        "discriminator.save(\"discriminador_100ep_2000img.keras\")"
      ]
    },
    {
      "cell_type": "code",
      "execution_count": null,
      "metadata": {
        "id": "XM9NDGHTmWxx"
      },
      "outputs": [],
      "source": [
        "# Carga los modelos en memoria. Mover bloque donde proceda (por ej. justo antes del entrenamiento)\n",
        "generator = load.save(\"generador_caras_100ep_2000img.keras\")\n",
        "discriminator = load.save(\"discriminador_100ep_2000img.keras\")"
      ]
    },
    {
      "cell_type": "code",
      "execution_count": null,
      "metadata": {
        "id": "ZoYvytpFme7W"
      },
      "outputs": [],
      "source": [
        "# Prueba el generador cargado\n",
        "noise = tf.random.normal([1, LATENT_DIM])\n",
        "generated_image = generator(noise, training=False)\n",
        "\n",
        "# Muestra la imagen generada por el generador\n",
        "\n",
        "print(\"Dimensiones de la imagen generada:\", generated_image.shape)\n",
        "print(\"Rango de valores de la imagen generada: de\", generated_image.numpy().min(), \"a\", generated_image.numpy().max())"
      ]
    }
  ],
  "metadata": {
    "accelerator": "TPU",
    "colab": {
      "gpuType": "V28",
      "provenance": []
    },
    "kernelspec": {
      "display_name": "Python 3",
      "name": "python3"
    },
    "language_info": {
      "name": "python"
    }
  },
  "nbformat": 4,
  "nbformat_minor": 0
}